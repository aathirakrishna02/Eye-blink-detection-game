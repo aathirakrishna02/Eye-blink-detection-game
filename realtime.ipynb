{
  "nbformat": 4,
  "nbformat_minor": 0,
  "metadata": {
    "colab": {
      "provenance": [],
      "authorship_tag": "ABX9TyMFshMkb9rLldtitSn/snFp",
      "include_colab_link": true
    },
    "kernelspec": {
      "name": "python3",
      "display_name": "Python 3"
    },
    "language_info": {
      "name": "python"
    }
  },
  "cells": [
    {
      "cell_type": "markdown",
      "metadata": {
        "id": "view-in-github",
        "colab_type": "text"
      },
      "source": [
        "<a href=\"https://colab.research.google.com/github/aathirakrishna02/Eye-blink-detection-game/blob/master/realtime.ipynb\" target=\"_parent\"><img src=\"https://colab.research.google.com/assets/colab-badge.svg\" alt=\"Open In Colab\"/></a>"
      ]
    },
    {
      "cell_type": "code",
      "execution_count": null,
      "metadata": {
        "id": "enpXkVINIepI",
        "colab": {
          "base_uri": "https://localhost:8080/"
        },
        "outputId": "003e9ebe-fa39-4c2c-bc0e-50797f848522"
      },
      "outputs": [
        {
          "output_type": "stream",
          "name": "stdout",
          "text": [
            "Cloning into 'Eye-Blink-Detector'...\n",
            "remote: Enumerating objects: 2735, done.\u001b[K\n",
            "remote: Counting objects: 100% (46/46), done.\u001b[K\n",
            "remote: Compressing objects: 100% (35/35), done.\u001b[K\n",
            "remote: Total 2735 (delta 7), reused 46 (delta 7), pack-reused 2689\u001b[K\n",
            "Receiving objects: 100% (2735/2735), 132.79 MiB | 20.40 MiB/s, done.\n",
            "Resolving deltas: 100% (201/201), done.\n",
            "Updating files: 100% (2481/2481), done.\n"
          ]
        }
      ],
      "source": [
        "!git clone https://github.com/yagyesh-bobde/Eye-Blink-Detector.git\n"
      ]
    },
    {
      "cell_type": "code",
      "source": [
        "%cd Eye-Blink-Detector\n"
      ],
      "metadata": {
        "colab": {
          "base_uri": "https://localhost:8080/"
        },
        "id": "VpTfH8-fy3w0",
        "outputId": "628bc7b9-8046-43cc-b774-2a221075c695"
      },
      "execution_count": null,
      "outputs": [
        {
          "output_type": "stream",
          "name": "stdout",
          "text": [
            "/content/Eye-Blink-Detector\n"
          ]
        }
      ]
    },
    {
      "cell_type": "code",
      "source": [
        "!pip install opencv-python-headless\n",
        "!pip install dlib\n",
        "!pip install imutils\n",
        "!pip install scipy\n"
      ],
      "metadata": {
        "colab": {
          "base_uri": "https://localhost:8080/"
        },
        "id": "YKrrLXN3y9pu",
        "outputId": "25c7d730-15bb-48c9-d66d-930d4582f2e6"
      },
      "execution_count": null,
      "outputs": [
        {
          "output_type": "stream",
          "name": "stdout",
          "text": [
            "Requirement already satisfied: opencv-python-headless in /usr/local/lib/python3.10/dist-packages (4.8.1.78)\n",
            "Requirement already satisfied: numpy>=1.21.2 in /usr/local/lib/python3.10/dist-packages (from opencv-python-headless) (1.23.5)\n",
            "Requirement already satisfied: dlib in /usr/local/lib/python3.10/dist-packages (19.24.2)\n",
            "Requirement already satisfied: imutils in /usr/local/lib/python3.10/dist-packages (0.5.4)\n",
            "Requirement already satisfied: scipy in /usr/local/lib/python3.10/dist-packages (1.11.3)\n",
            "Requirement already satisfied: numpy<1.28.0,>=1.21.6 in /usr/local/lib/python3.10/dist-packages (from scipy) (1.23.5)\n"
          ]
        }
      ]
    },
    {
      "cell_type": "code",
      "source": [
        "import cv2\n",
        "import dlib\n",
        "import time\n",
        "from imutils import face_utils\n",
        "from scipy.spatial import distance as dist\n",
        "\n",
        "\n",
        "cam = cv2.VideoCapture('assets/me_blinking.mp4')\n",
        "\n",
        "#------------Variables---------#\n",
        "blink_thresh=0.5\n",
        "tt_frame = 3\n",
        "count=0\n",
        "\n",
        "\n",
        "#------#\n",
        "detector = dlib.get_frontal_face_detector()\n",
        "lm_model = dlib.shape_predictor('/content/Eye-Blink-Detector/Model/shape_predictor_68_face_landmarks.dat')\n",
        "\n",
        "#--Eye ids ---#\n",
        "(L_start, L_end) = face_utils.FACIAL_LANDMARKS_IDXS[\"left_eye\"]\n",
        "print(L_start,L_end)\n",
        "(R_start, R_end) = face_utils.FACIAL_LANDMARKS_IDXS['right_eye']\n",
        "\n",
        "ptime = 0\n",
        "\n",
        "def EAR_cal(eye):\n",
        "    #----verticle-#\n",
        "    v1 = dist.euclidean(eye[1],eye[5])\n",
        "    v2 = dist.euclidean(eye[2],eye[4])\n",
        "\n",
        "    #-------horizontal----#\n",
        "    h1 = dist.euclidean(eye[0],eye[3])\n",
        "\n",
        "    ear = (v1+v2)/h1\n",
        "    return ear\n",
        "\n",
        "\n",
        "\n",
        "while 1 :\n",
        "\n",
        "    if cam.get(cv2.CAP_PROP_POS_FRAMES) == cam.get(cv2.CAP_PROP_FRAME_COUNT) :\n",
        "        cam.set(cv2.CAP_PROP_POS_FRAMES,0)\n",
        "\n",
        "    _,frame = cam.read()\n",
        "    img_gray = cv2.cvtColor(frame,cv2.COLOR_BGR2GRAY)\n",
        "    #--------fps --------#\n",
        "    ctime = time.time()\n",
        "    fps = 1/(ctime-ptime)\n",
        "    ptime= ctime\n",
        "    cv2.putText(\n",
        "        frame,\n",
        "        f'FPS:{int(fps)}',\n",
        "        (50,50),\n",
        "        cv2.FONT_HERSHEY_DUPLEX,\n",
        "        1,\n",
        "        (0,0,100),\n",
        "        1\n",
        "    )\n",
        "    #-----facedetection----#\n",
        "    faces = detector(img_gray)\n",
        "\n",
        "    for face in faces:\n",
        "        x1 = face.left()\n",
        "        y1 = face.top()\n",
        "        x2 = face.right()\n",
        "        y2= face.bottom()\n",
        "        cv2.rectangle(frame,(x1,y1),(x2,y2),(200),2)\n",
        "\n",
        "        #---------Landmarks------#\n",
        "        shapes = lm_model(img_gray,face)\n",
        "        shape = face_utils.shape_to_np(shapes)\n",
        "\n",
        "        #-----Eye landmarks---#\n",
        "        lefteye = shape[L_start:L_end]\n",
        "        righteye = shape[R_start:R_end]\n",
        "\n",
        "        for Lpt,rpt in zip(lefteye,righteye):\n",
        "            cv2.circle(frame,Lpt,2,(200,200,0),2)\n",
        "            cv2.circle(frame, rpt, 2, (200, 200, 0), 2)\n",
        "\n",
        "        left_EAR = EAR_cal(lefteye)\n",
        "        right_EAR= EAR_cal(righteye)\n",
        "\n",
        "        avg =( left_EAR+right_EAR)/2\n",
        "        print(avg)\n",
        "        if avg<blink_thresh :\n",
        "            count+=1\n",
        "\n",
        "        else :\n",
        "            if count>tt_frame:\n",
        "                cv2.putText(frame,f'BLINK Detected',(frame.shape[1]//2 - 300,frame.shape[0]//2),cv2.FONT_HERSHEY_SIMPLEX,2,(0,200,0),2)\n",
        "                print(count)\n",
        "            else :\n",
        "                count=0\n",
        "\n",
        "    frame = cv2.resize(frame,(1080,640))\n",
        "\n",
        "    from google.colab.patches import cv2_imshow\n",
        "    cv2_imshow(frame)\n",
        "\n",
        "    if cv2.waitKey(1) & 0xFF == ord('q'):\n",
        "        break\n",
        "\n",
        "cam.release()"
      ],
      "metadata": {
        "id": "L4sP3WKPz77g",
        "colab": {
          "base_uri": "https://localhost:8080/",
          "height": 245
        },
        "outputId": "bfc8d4e7-9978-4f4b-fb50-1bc263ae88c2"
      },
      "execution_count": null,
      "outputs": [
        {
          "output_type": "error",
          "ename": "RuntimeError",
          "evalue": "ignored",
          "traceback": [
            "\u001b[0;31m---------------------------------------------------------------------------\u001b[0m",
            "\u001b[0;31mRuntimeError\u001b[0m                              Traceback (most recent call last)",
            "\u001b[0;32m<ipython-input-2-d0288e356b89>\u001b[0m in \u001b[0;36m<cell line: 18>\u001b[0;34m()\u001b[0m\n\u001b[1;32m     16\u001b[0m \u001b[0;31m#------#\u001b[0m\u001b[0;34m\u001b[0m\u001b[0;34m\u001b[0m\u001b[0m\n\u001b[1;32m     17\u001b[0m \u001b[0mdetector\u001b[0m \u001b[0;34m=\u001b[0m \u001b[0mdlib\u001b[0m\u001b[0;34m.\u001b[0m\u001b[0mget_frontal_face_detector\u001b[0m\u001b[0;34m(\u001b[0m\u001b[0;34m)\u001b[0m\u001b[0;34m\u001b[0m\u001b[0;34m\u001b[0m\u001b[0m\n\u001b[0;32m---> 18\u001b[0;31m \u001b[0mlm_model\u001b[0m \u001b[0;34m=\u001b[0m \u001b[0mdlib\u001b[0m\u001b[0;34m.\u001b[0m\u001b[0mshape_predictor\u001b[0m\u001b[0;34m(\u001b[0m\u001b[0;34m'/content/Eye-Blink-Detector/Model/shape_predictor_68_face_landmarks.dat'\u001b[0m\u001b[0;34m)\u001b[0m\u001b[0;34m\u001b[0m\u001b[0;34m\u001b[0m\u001b[0m\n\u001b[0m\u001b[1;32m     19\u001b[0m \u001b[0;34m\u001b[0m\u001b[0m\n\u001b[1;32m     20\u001b[0m \u001b[0;31m#--Eye ids ---#\u001b[0m\u001b[0;34m\u001b[0m\u001b[0;34m\u001b[0m\u001b[0m\n",
            "\u001b[0;31mRuntimeError\u001b[0m: Unable to open /content/Eye-Blink-Detector/Model/shape_predictor_68_face_landmarks.dat"
          ]
        }
      ]
    }
  ]
}